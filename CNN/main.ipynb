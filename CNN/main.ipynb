{
 "cells": [
  {
   "cell_type": "code",
   "execution_count": 9,
   "id": "6ce5b6b4",
   "metadata": {},
   "outputs": [],
   "source": [
    "symbol = 'BTCUSDT'\n",
    "timeframes = ['1h', '4h','1d']\n",
    "base_tf = '1h'"
   ]
  },
  {
   "cell_type": "code",
   "execution_count": 10,
   "id": "63925e77",
   "metadata": {},
   "outputs": [],
   "source": [
    "def get_data(symbol, tf):\n",
    "    import pandas as pd\n",
    "    df = pd.read_csv(f'./data/{symbol}_{tf}.csv')\n",
    "    df['Date'] = pd.to_datetime(df['Timestamp'], unit='ms')\n",
    "    df.set_index('Date',inplace=True)\n",
    "    df = df[['Open', 'High', 'Low', 'Close', 'Volume','Taker_buy_base']]\n",
    "    df.index = pd.to_datetime(df.index)\n",
    "    return df"
   ]
  },
  {
   "cell_type": "code",
   "execution_count": 11,
   "id": "d8309b78",
   "metadata": {},
   "outputs": [],
   "source": [
    "import pandas as pd\n",
    "from ta.volume import OnBalanceVolumeIndicator\n",
    "from ta.volatility import AverageTrueRange\n",
    "from ta.trend import ADXIndicator\n",
    "\n",
    "def add_indicators(df):\n",
    "    df.columns = df.columns.str.capitalize()\n",
    "    df['Delta_volume'] = df['Taker_buy_base'] - (df['Volume'] - df['Taker_buy_base'])\n",
    "    df['cvd'] = df['Delta_volume'].cumsum()\n",
    "    df['cvd_rolling'] = df['cvd'].rolling(12).mean()\n",
    "    df['adx'] = ADXIndicator(high=df['High'], low=df['Low'], close=df['Close']).adx()\n",
    "    df['obv'] = OnBalanceVolumeIndicator(close=df['Close'], volume=df['Volume']).on_balance_volume()\n",
    "    df['atr'] = AverageTrueRange(high=df['High'], low=df['Low'], close=df['Close']).average_true_range()\n",
    "    df['cvd_momentum'] = df['cvd_rolling'] - df['cvd_rolling'].shift(5)\n",
    "\n",
    "    df['ret_5'] = df['Close'] / df['Close'].shift(5) - 1\n",
    "    df['ret_10'] = df['Close'] / df['Close'].shift(10) - 1\n",
    "    df['ret_15'] = df['Close'] / df['Close'].shift(15) - 1\n",
    "\n",
    "    df['vol_compression'] = df['atr'] / df['Close'].rolling(14).std()\n",
    "\n",
    "    df.dropna(inplace=True)  \n",
    "    # df['lower_wick'] = df[['Close', 'Open']].min(axis=1) -  df['Low']\n",
    "    # df['upper_wick'] = df['High'] - df[['Close', 'Open']].max(axis=1)\n",
    "    # df['body_size'] = df['Close'] - df['Open']\n",
    "    df.drop(columns=['High', 'Open', 'Low', 'Volume', 'Taker_buy_base','cvd','Delta_volume'], inplace=True)\n",
    "    \n",
    "    return df"
   ]
  },
  {
   "cell_type": "code",
   "execution_count": 12,
   "id": "c375e538",
   "metadata": {},
   "outputs": [],
   "source": [
    "df = get_data(symbol, base_tf)"
   ]
  },
  {
   "cell_type": "code",
   "execution_count": 13,
   "id": "31792366",
   "metadata": {},
   "outputs": [
    {
     "data": {
      "text/html": [
       "<div>\n",
       "<style scoped>\n",
       "    .dataframe tbody tr th:only-of-type {\n",
       "        vertical-align: middle;\n",
       "    }\n",
       "\n",
       "    .dataframe tbody tr th {\n",
       "        vertical-align: top;\n",
       "    }\n",
       "\n",
       "    .dataframe thead th {\n",
       "        text-align: right;\n",
       "    }\n",
       "</style>\n",
       "<table border=\"1\" class=\"dataframe\">\n",
       "  <thead>\n",
       "    <tr style=\"text-align: right;\">\n",
       "      <th></th>\n",
       "      <th>Open</th>\n",
       "      <th>High</th>\n",
       "      <th>Low</th>\n",
       "      <th>Close</th>\n",
       "      <th>Volume</th>\n",
       "      <th>Taker_buy_base</th>\n",
       "    </tr>\n",
       "    <tr>\n",
       "      <th>Date</th>\n",
       "      <th></th>\n",
       "      <th></th>\n",
       "      <th></th>\n",
       "      <th></th>\n",
       "      <th></th>\n",
       "      <th></th>\n",
       "    </tr>\n",
       "  </thead>\n",
       "  <tbody>\n",
       "    <tr>\n",
       "      <th>2024-03-01 00:00:00</th>\n",
       "      <td>61130.99</td>\n",
       "      <td>61749.00</td>\n",
       "      <td>61126.00</td>\n",
       "      <td>61501.11</td>\n",
       "      <td>1867.79902</td>\n",
       "      <td>1026.79855</td>\n",
       "    </tr>\n",
       "    <tr>\n",
       "      <th>2024-03-01 01:00:00</th>\n",
       "      <td>61501.10</td>\n",
       "      <td>61566.95</td>\n",
       "      <td>61125.40</td>\n",
       "      <td>61214.35</td>\n",
       "      <td>1552.25486</td>\n",
       "      <td>724.04590</td>\n",
       "    </tr>\n",
       "    <tr>\n",
       "      <th>2024-03-01 02:00:00</th>\n",
       "      <td>61214.35</td>\n",
       "      <td>61214.36</td>\n",
       "      <td>60781.25</td>\n",
       "      <td>60980.00</td>\n",
       "      <td>1600.91093</td>\n",
       "      <td>742.72814</td>\n",
       "    </tr>\n",
       "    <tr>\n",
       "      <th>2024-03-01 03:00:00</th>\n",
       "      <td>60980.00</td>\n",
       "      <td>61222.22</td>\n",
       "      <td>60777.00</td>\n",
       "      <td>61105.91</td>\n",
       "      <td>1324.61160</td>\n",
       "      <td>714.24953</td>\n",
       "    </tr>\n",
       "    <tr>\n",
       "      <th>2024-03-01 04:00:00</th>\n",
       "      <td>61105.92</td>\n",
       "      <td>61524.09</td>\n",
       "      <td>61061.11</td>\n",
       "      <td>61524.09</td>\n",
       "      <td>1067.62569</td>\n",
       "      <td>630.30296</td>\n",
       "    </tr>\n",
       "    <tr>\n",
       "      <th>...</th>\n",
       "      <td>...</td>\n",
       "      <td>...</td>\n",
       "      <td>...</td>\n",
       "      <td>...</td>\n",
       "      <td>...</td>\n",
       "      <td>...</td>\n",
       "    </tr>\n",
       "    <tr>\n",
       "      <th>2025-05-31 20:00:00</th>\n",
       "      <td>104698.03</td>\n",
       "      <td>104807.94</td>\n",
       "      <td>104533.54</td>\n",
       "      <td>104781.83</td>\n",
       "      <td>150.05341</td>\n",
       "      <td>70.05110</td>\n",
       "    </tr>\n",
       "    <tr>\n",
       "      <th>2025-05-31 21:00:00</th>\n",
       "      <td>104781.84</td>\n",
       "      <td>104884.16</td>\n",
       "      <td>104645.73</td>\n",
       "      <td>104863.16</td>\n",
       "      <td>317.26216</td>\n",
       "      <td>153.91046</td>\n",
       "    </tr>\n",
       "    <tr>\n",
       "      <th>2025-05-31 22:00:00</th>\n",
       "      <td>104863.16</td>\n",
       "      <td>104900.00</td>\n",
       "      <td>104603.08</td>\n",
       "      <td>104625.80</td>\n",
       "      <td>228.10691</td>\n",
       "      <td>100.12835</td>\n",
       "    </tr>\n",
       "    <tr>\n",
       "      <th>2025-05-31 23:00:00</th>\n",
       "      <td>104625.79</td>\n",
       "      <td>104840.00</td>\n",
       "      <td>104473.20</td>\n",
       "      <td>104591.88</td>\n",
       "      <td>360.75652</td>\n",
       "      <td>162.06998</td>\n",
       "    </tr>\n",
       "    <tr>\n",
       "      <th>2025-06-01 00:00:00</th>\n",
       "      <td>104591.88</td>\n",
       "      <td>104647.11</td>\n",
       "      <td>104320.02</td>\n",
       "      <td>104446.49</td>\n",
       "      <td>293.78295</td>\n",
       "      <td>131.48518</td>\n",
       "    </tr>\n",
       "  </tbody>\n",
       "</table>\n",
       "<p>10969 rows × 6 columns</p>\n",
       "</div>"
      ],
      "text/plain": [
       "                          Open       High        Low      Close      Volume  \\\n",
       "Date                                                                          \n",
       "2024-03-01 00:00:00   61130.99   61749.00   61126.00   61501.11  1867.79902   \n",
       "2024-03-01 01:00:00   61501.10   61566.95   61125.40   61214.35  1552.25486   \n",
       "2024-03-01 02:00:00   61214.35   61214.36   60781.25   60980.00  1600.91093   \n",
       "2024-03-01 03:00:00   60980.00   61222.22   60777.00   61105.91  1324.61160   \n",
       "2024-03-01 04:00:00   61105.92   61524.09   61061.11   61524.09  1067.62569   \n",
       "...                        ...        ...        ...        ...         ...   \n",
       "2025-05-31 20:00:00  104698.03  104807.94  104533.54  104781.83   150.05341   \n",
       "2025-05-31 21:00:00  104781.84  104884.16  104645.73  104863.16   317.26216   \n",
       "2025-05-31 22:00:00  104863.16  104900.00  104603.08  104625.80   228.10691   \n",
       "2025-05-31 23:00:00  104625.79  104840.00  104473.20  104591.88   360.75652   \n",
       "2025-06-01 00:00:00  104591.88  104647.11  104320.02  104446.49   293.78295   \n",
       "\n",
       "                     Taker_buy_base  \n",
       "Date                                 \n",
       "2024-03-01 00:00:00      1026.79855  \n",
       "2024-03-01 01:00:00       724.04590  \n",
       "2024-03-01 02:00:00       742.72814  \n",
       "2024-03-01 03:00:00       714.24953  \n",
       "2024-03-01 04:00:00       630.30296  \n",
       "...                             ...  \n",
       "2025-05-31 20:00:00        70.05110  \n",
       "2025-05-31 21:00:00       153.91046  \n",
       "2025-05-31 22:00:00       100.12835  \n",
       "2025-05-31 23:00:00       162.06998  \n",
       "2025-06-01 00:00:00       131.48518  \n",
       "\n",
       "[10969 rows x 6 columns]"
      ]
     },
     "execution_count": 13,
     "metadata": {},
     "output_type": "execute_result"
    }
   ],
   "source": [
    "df"
   ]
  },
  {
   "cell_type": "code",
   "execution_count": 14,
   "id": "672a8d19",
   "metadata": {},
   "outputs": [],
   "source": [
    "dfs = {}\n",
    "for tf in timeframes:\n",
    "    df = get_data(symbol,tf)\n",
    "    df = add_indicators(df)\n",
    "    dfs[tf] = df"
   ]
  },
  {
   "cell_type": "code",
   "execution_count": 18,
   "id": "72c093bb",
   "metadata": {},
   "outputs": [],
   "source": [
    "dfs[base_tf] =dfs[base_tf][2000:]"
   ]
  },
  {
   "cell_type": "code",
   "execution_count": 19,
   "id": "7994448c",
   "metadata": {},
   "outputs": [
    {
     "data": {
      "text/plain": [
       "((8953, 10), (2151, 10), (442, 10))"
      ]
     },
     "execution_count": 19,
     "metadata": {},
     "output_type": "execute_result"
    }
   ],
   "source": [
    "dfs['1h'].shape, dfs['4h'].shape, dfs['1d'].shape"
   ]
  },
  {
   "cell_type": "code",
   "execution_count": 22,
   "id": "fcd97264",
   "metadata": {},
   "outputs": [
    {
     "data": {
      "image/png": "[encoded data removed]",
      "text/plain": [
       "<Figure size 1000x800 with 2 Axes>"
      ]
     },
     "metadata": {},
     "output_type": "display_data"
    }
   ],
   "source": [
    "import seaborn as sns\n",
    "import matplotlib.pyplot as plt\n",
    "\n",
    "# Assuming df is your dataframe with OHLCV + indicators\n",
    "correlation_matrix = dfs[base_tf].corr()\n",
    "# Visualize\n",
    "plt.figure(figsize=(10,8))\n",
    "sns.heatmap(correlation_matrix, annot=True, fmt=\".2f\", cmap='coolwarm')\n",
    "plt.title(\"Feature Correlation Matrix\")\n",
    "plt.show()\n"
   ]
  },
  {
   "cell_type": "code",
   "execution_count": 23,
   "id": "5d7c7650",
   "metadata": {},
   "outputs": [],
   "source": [
    "def add_target_column(df, lookahead=10):\n",
    "    target = []\n",
    "\n",
    "    for i in range(len(df)):\n",
    "        start_price = df['Close'].iloc[i]\n",
    "        valid_bars = df.iloc[i+1:i+1+lookahead]\n",
    "        max_percent = -1\n",
    "\n",
    "        for j in range(len(valid_bars)):\n",
    "            curr_price = valid_bars['Close'].iloc[j]\n",
    "            max_percent =  max(max_percent,(curr_price - start_price) / start_price)\n",
    "        \n",
    "        target.append(max_percent)\n",
    "\n",
    "    df_copy = df.copy()\n",
    "    df_copy['Target'] = target\n",
    "    df_target = df_copy[['Target']]\n",
    "    return df_target\n"
   ]
  },
  {
   "cell_type": "code",
   "execution_count": 25,
   "id": "e288f3ba",
   "metadata": {},
   "outputs": [],
   "source": [
    "df_target = add_target_column(dfs[base_tf],lookahead=10)"
   ]
  },
  {
   "cell_type": "code",
   "execution_count": 26,
   "id": "548908f2",
   "metadata": {},
   "outputs": [
    {
     "data": {
      "text/html": [
       "<div>\n",
       "<style scoped>\n",
       "    .dataframe tbody tr th:only-of-type {\n",
       "        vertical-align: middle;\n",
       "    }\n",
       "\n",
       "    .dataframe tbody tr th {\n",
       "        vertical-align: top;\n",
       "    }\n",
       "\n",
       "    .dataframe thead th {\n",
       "        text-align: right;\n",
       "    }\n",
       "</style>\n",
       "<table border=\"1\" class=\"dataframe\">\n",
       "  <thead>\n",
       "    <tr style=\"text-align: right;\">\n",
       "      <th></th>\n",
       "      <th>Target</th>\n",
       "    </tr>\n",
       "    <tr>\n",
       "      <th>Date</th>\n",
       "      <th></th>\n",
       "    </tr>\n",
       "  </thead>\n",
       "  <tbody>\n",
       "    <tr>\n",
       "      <th>2024-05-24 00:00:00</th>\n",
       "      <td>0.001862</td>\n",
       "    </tr>\n",
       "    <tr>\n",
       "      <th>2024-05-24 01:00:00</th>\n",
       "      <td>0.003489</td>\n",
       "    </tr>\n",
       "    <tr>\n",
       "      <th>2024-05-24 02:00:00</th>\n",
       "      <td>-0.001273</td>\n",
       "    </tr>\n",
       "    <tr>\n",
       "      <th>2024-05-24 03:00:00</th>\n",
       "      <td>-0.002704</td>\n",
       "    </tr>\n",
       "    <tr>\n",
       "      <th>2024-05-24 04:00:00</th>\n",
       "      <td>0.002382</td>\n",
       "    </tr>\n",
       "    <tr>\n",
       "      <th>...</th>\n",
       "      <td>...</td>\n",
       "    </tr>\n",
       "    <tr>\n",
       "      <th>2025-05-31 20:00:00</th>\n",
       "      <td>0.000776</td>\n",
       "    </tr>\n",
       "    <tr>\n",
       "      <th>2025-05-31 21:00:00</th>\n",
       "      <td>-0.002264</td>\n",
       "    </tr>\n",
       "    <tr>\n",
       "      <th>2025-05-31 22:00:00</th>\n",
       "      <td>-0.000324</td>\n",
       "    </tr>\n",
       "    <tr>\n",
       "      <th>2025-05-31 23:00:00</th>\n",
       "      <td>-0.001390</td>\n",
       "    </tr>\n",
       "    <tr>\n",
       "      <th>2025-06-01 00:00:00</th>\n",
       "      <td>-1.000000</td>\n",
       "    </tr>\n",
       "  </tbody>\n",
       "</table>\n",
       "<p>8953 rows × 1 columns</p>\n",
       "</div>"
      ],
      "text/plain": [
       "                       Target\n",
       "Date                         \n",
       "2024-05-24 00:00:00  0.001862\n",
       "2024-05-24 01:00:00  0.003489\n",
       "2024-05-24 02:00:00 -0.001273\n",
       "2024-05-24 03:00:00 -0.002704\n",
       "2024-05-24 04:00:00  0.002382\n",
       "...                       ...\n",
       "2025-05-31 20:00:00  0.000776\n",
       "2025-05-31 21:00:00 -0.002264\n",
       "2025-05-31 22:00:00 -0.000324\n",
       "2025-05-31 23:00:00 -0.001390\n",
       "2025-06-01 00:00:00 -1.000000\n",
       "\n",
       "[8953 rows x 1 columns]"
      ]
     },
     "execution_count": 26,
     "metadata": {},
     "output_type": "execute_result"
    }
   ],
   "source": [
    "df_target"
   ]
  },
  {
   "cell_type": "code",
   "execution_count": 27,
   "id": "eb6001f4",
   "metadata": {},
   "outputs": [],
   "source": [
    "dfs[base_tf] = dfs[base_tf][:-10]"
   ]
  },
  {
   "cell_type": "code",
   "execution_count": 28,
   "id": "055a9f87",
   "metadata": {},
   "outputs": [],
   "source": [
    "from sklearn.preprocessing import StandardScaler\n",
    "\n",
    "def standerd_scale(df):\n",
    "    scaler = StandardScaler()\n",
    "    X_scaled = scaler.fit_transform(df)\n",
    "    df_scaled = pd.DataFrame(X_scaled, columns=df.columns, index=df.index)\n",
    "    return df_scaled, scaler"
   ]
  },
  {
   "cell_type": "code",
   "execution_count": 29,
   "id": "4ed61b0e",
   "metadata": {},
   "outputs": [],
   "source": [
    "dfs_scaled = {}\n",
    "scalars = {}\n",
    "for tf in timeframes:\n",
    "    df_scaled, scalar = standerd_scale(dfs[tf])\n",
    "    dfs_scaled[tf] = df_scaled\n",
    "    scalars[tf] = scalar"
   ]
  },
  {
   "cell_type": "code",
   "execution_count": 30,
   "id": "7574b6bf",
   "metadata": {},
   "outputs": [],
   "source": [
    "import pickle\n",
    "for tf in timeframes:\n",
    "    name = f'./output/{symbol}_{tf}.pkl'\n",
    "    with open(name, 'wb') as f:\n",
    "        pickle.dump(scalars[tf], f)"
   ]
  },
  {
   "cell_type": "code",
   "execution_count": null,
   "id": "087147bc",
   "metadata": {},
   "outputs": [],
   "source": [
    "import torch\n",
    "from torch.utils.data import Dataset\n",
    "import pandas as pd\n",
    "\n",
    "class MultiTFDataset(Dataset):\n",
    "    def __init__(self, dfs_scaled, targets, seq_len=48, augment=True):\n",
    "        self.dfs_scaled = dfs_scaled\n",
    "        self.targets = targets\n",
    "        self.seq_len = seq_len\n",
    "        self.augment = augment\n",
    "\n",
    "        self.valid_indices = self.dfs_scaled[base_tf].index[self.seq_len:]\n",
    "\n",
    "    def get_end_indices(self, t):\n",
    "        t_4h = t.floor('4h') - pd.Timedelta(hours=4)\n",
    "        t_1d = t.floor('D') - pd.Timedelta(days=1)\n",
    "        return t_4h, t_1d\n",
    "\n",
    "    def __len__(self):\n",
    "        return len(self.valid_indices)\n",
    "    \n",
    "    def __getitem__(self, idx):\n",
    "        end_1h = self.valid_indices[idx]\n",
    "        end_4h, end_1d = self.get_end_indices(end_1h)\n",
    "\n",
    "        seq_1h = self.dfs_scaled['1h'].loc[:end_1h].iloc[-self.seq_len:]\n",
    "        seq_4h = self.dfs_scaled['4h'].loc[:end_4h].iloc[-self.seq_len:]\n",
    "        seq_1d = self.dfs_scaled['1d'].loc[:end_1d].iloc[-self.seq_len:]\n",
    "\n",
    "        x = torch.stack([\n",
    "            torch.tensor(seq_1h.values, dtype=torch.float32),\n",
    "            torch.tensor(seq_4h.values, dtype=torch.float32),\n",
    "            torch.tensor(seq_1d.values, dtype=torch.float32)\n",
    "        ], dim=0)  # shape: [3, T, F]\n",
    "\n",
    "        if self.augment:\n",
    "            x = self.apply_augmentation(x)\n",
    "\n",
    "        y = torch.tensor(self.targets.loc[end_1h].item(), dtype=torch.long)\n",
    "        return x, y , str(end_1h) \n",
    "\n",
    "    def apply_augmentation(self, x):\n",
    "        # x shape: [3, T, F]\n",
    "        noise_level = 0.01\n",
    "        jitter = noise_level * torch.randn_like(x)\n",
    "        return x + jitter"
   ]
  },
  {
   "cell_type": "code",
   "execution_count": 14,
   "id": "4634d7bd",
   "metadata": {},
   "outputs": [],
   "source": [
    "r = MultiTFDataset(dfs_scaled=dfs_scaled,targets = df_target)"
   ]
  },
  {
   "cell_type": "code",
   "execution_count": 15,
   "id": "3dc36a37",
   "metadata": {},
   "outputs": [],
   "source": [
    "t = r.__getitem__(-1)"
   ]
  },
  {
   "cell_type": "code",
   "execution_count": 16,
   "id": "81b8208b",
   "metadata": {},
   "outputs": [
    {
     "data": {
      "text/plain": [
       "'2025-05-31 00:00:00'"
      ]
     },
     "execution_count": 16,
     "metadata": {},
     "output_type": "execute_result"
    }
   ],
   "source": [
    "t[2]"
   ]
  },
  {
   "cell_type": "code",
   "execution_count": 17,
   "id": "8260c918",
   "metadata": {},
   "outputs": [],
   "source": [
    "for i in range(r.__len__()):\n",
    "    t = r.__getitem__(i)\n",
    "    \n",
    "    if t[0].shape != torch.Size([3, 48, 10]):\n",
    "        print(i, t[0].shape)"
   ]
  },
  {
   "cell_type": "code",
   "execution_count": 18,
   "id": "dd4ce855",
   "metadata": {},
   "outputs": [],
   "source": [
    "from sklearn.utils.class_weight import compute_class_weight\n",
    "import numpy as np\n",
    "import torch\n",
    "\n",
    "# Compute class weights for binary classification\n",
    "classes = np.unique(df_target['Target'])  # should be [0, 1]\n",
    "class_weights = compute_class_weight(class_weight='balanced', classes=classes, y=df_target['Target'])\n",
    "\n",
    "# Convert to tensor\n",
    "# Important: BCEWithLogitsLoss accepts pos_weight, which applies only to the positive class (label 1)\n",
    "# So we extract the ratio as pos_weight = weight_for_1 / weight_for_0\n",
    "\n",
    "pos_weight = class_weights[1] / class_weights[0]\n",
    "pos_weight = torch.tensor(pos_weight, dtype=torch.float32)\n",
    "\n",
    "# Use BCEWithLogitsLoss\n",
    "loss_fn = torch.nn.BCEWithLogitsLoss(pos_weight=pos_weight)\n"
   ]
  },
  {
   "cell_type": "code",
   "execution_count": 19,
   "id": "5ccdc035",
   "metadata": {},
   "outputs": [],
   "source": [
    "import torch\n",
    "import torch.nn as nn\n",
    "import torch.nn.functional as F\n",
    "\n",
    "class CNNMultiTF(nn.Module):\n",
    "    def __init__(self,no_of_tf = 3, num_classes=3):\n",
    "        super(CNNMultiTF, self).__init__()\n",
    "\n",
    "        # Input shape: [batch, channels=3, T, F]\n",
    "        self.conv1 = nn.Conv2d(in_channels=no_of_tf, out_channels=16, kernel_size=(3, 3), padding=1)\n",
    "        self.bn1 = nn.BatchNorm2d(16)\n",
    "        self.dropout = nn.Dropout(p=0.3)\n",
    "        self.conv2 = nn.Conv2d(16, 32, kernel_size=(3, 3), padding=1)\n",
    "        self.bn2 = nn.BatchNorm2d(32)\n",
    "        self.pool = nn.AdaptiveAvgPool2d((1, 1))  # Global avg pooling\n",
    "        self.fc1 = nn.Linear(32, 16)  # Output logits for 3 classes\n",
    "        self.fc2 = nn.Linear(16, 1)\n",
    "\n",
    "    def forward(self, x):\n",
    "        x = F.relu(self.bn1(self.conv1(x)))  # [batch, 16, T, F]\n",
    "        x = self.dropout(x)\n",
    "        x = F.relu(self.bn2(self.conv2(x)))  # [batch, 32, T, F]\n",
    "        x = self.pool(x)                      # [batch, 32, 1, 1]\n",
    "        x = x.view(x.size(0), -1)             # [batch, 32]\n",
    "        x = F.relu(self.fc1(x))               # [batch, 16]\n",
    "        x = self.fc2(x)                       # [batch, 1]\n",
    "        return x.squeeze(dim=1)               # [batch]\n"
   ]
  },
  {
   "cell_type": "code",
   "execution_count": 20,
   "id": "48ec2d13",
   "metadata": {},
   "outputs": [],
   "source": [
    "from torch.utils.data import DataLoader\n",
    "\n",
    "dfs_train = dfs_scaled.copy()\n",
    "dfs_train[base_tf] = dfs_train[base_tf][:-4000]\n",
    "train_dataset = MultiTFDataset(dfs_scaled=dfs_train, targets=df_target, seq_len=48, augment=True)\n",
    "train_loader = DataLoader(train_dataset, batch_size=32, shuffle=True)"
   ]
  },
  {
   "cell_type": "code",
   "execution_count": 21,
   "id": "c5d9b732",
   "metadata": {},
   "outputs": [],
   "source": [
    "device = torch.device(\"cuda\" if torch.cuda.is_available() else \"cpu\")"
   ]
  },
  {
   "cell_type": "code",
   "execution_count": 22,
   "id": "64b02fce",
   "metadata": {},
   "outputs": [],
   "source": [
    "def train(no_of_epoch=50):\n",
    "    model = CNNMultiTF()  # make sure it outputs [B] or [B, 1]\n",
    "    model.to(device)\n",
    "    \n",
    "    criterion = nn.BCELoss()\n",
    "    optimizer = torch.optim.Adam(model.parameters(), lr=1e-3, weight_decay=1e-5)\n",
    "\n",
    "    max_accuracy = 0\n",
    "\n",
    "    for epoch in range(no_of_epoch):\n",
    "        model.train()\n",
    "        running_loss = 0.0\n",
    "        correct = 0\n",
    "        total = 0\n",
    "\n",
    "        for batch_x, batch_y, _ in train_loader:\n",
    "            batch_x = batch_x.to(device)                  # shape: [B, 3, T, F]\n",
    "            batch_y = batch_y.to(device).float()          # shape: [B], dtype: float\n",
    "\n",
    "            optimizer.zero_grad()\n",
    "\n",
    "            outputs = model(batch_x).squeeze()            # shape: [B], raw logits\n",
    "            loss = criterion(torch.sigmoid(outputs), batch_y)\n",
    "            loss.backward()\n",
    "            optimizer.step()\n",
    "\n",
    "            running_loss += loss.item() * batch_x.size(0)\n",
    "\n",
    "            # Accuracy\n",
    "            preds = torch.sigmoid(outputs) > 0.5\n",
    "            correct += (preds == batch_y.bool()).sum().item()\n",
    "            total += batch_y.size(0)\n",
    "\n",
    "        accuracy = correct / total\n",
    "        print(f\"Epoch {epoch+1}, Loss: {running_loss / total:.4f}, Acc: {accuracy:.4f}\")\n",
    "\n",
    "        if accuracy >= max_accuracy:\n",
    "            max_accuracy = accuracy\n",
    "            torch.save(model, f'./models/Acc_{accuracy:.3f}.pth')\n",
    "        \n",
    "    return model\n"
   ]
  },
  {
   "cell_type": "code",
   "execution_count": 23,
   "id": "d18c053c",
   "metadata": {},
   "outputs": [
    {
     "name": "stdout",
     "output_type": "stream",
     "text": [
      "Epoch 1, Loss: 0.5810, Acc: 0.7040\n",
      "Epoch 2, Loss: 0.5463, Acc: 0.7226\n",
      "Epoch 3, Loss: 0.5239, Acc: 0.7357\n",
      "Epoch 4, Loss: 0.5081, Acc: 0.7461\n",
      "Epoch 5, Loss: 0.4836, Acc: 0.7566\n",
      "Epoch 6, Loss: 0.4657, Acc: 0.7737\n",
      "Epoch 7, Loss: 0.4532, Acc: 0.7797\n",
      "Epoch 8, Loss: 0.4380, Acc: 0.7929\n",
      "Epoch 9, Loss: 0.4218, Acc: 0.8014\n",
      "Epoch 10, Loss: 0.4108, Acc: 0.8099\n",
      "Epoch 11, Loss: 0.4004, Acc: 0.8152\n",
      "Epoch 12, Loss: 0.3823, Acc: 0.8313\n",
      "Epoch 13, Loss: 0.3713, Acc: 0.8399\n",
      "Epoch 14, Loss: 0.3680, Acc: 0.8367\n",
      "Epoch 15, Loss: 0.3589, Acc: 0.8474\n",
      "Epoch 16, Loss: 0.3480, Acc: 0.8537\n",
      "Epoch 17, Loss: 0.3425, Acc: 0.8535\n",
      "Epoch 18, Loss: 0.3340, Acc: 0.8603\n",
      "Epoch 19, Loss: 0.3315, Acc: 0.8619\n",
      "Epoch 20, Loss: 0.3228, Acc: 0.8638\n",
      "Epoch 21, Loss: 0.3110, Acc: 0.8762\n",
      "Epoch 22, Loss: 0.3151, Acc: 0.8663\n",
      "Epoch 23, Loss: 0.3050, Acc: 0.8762\n",
      "Epoch 24, Loss: 0.3059, Acc: 0.8742\n",
      "Epoch 25, Loss: 0.3030, Acc: 0.8759\n",
      "Epoch 26, Loss: 0.2947, Acc: 0.8787\n",
      "Epoch 27, Loss: 0.2893, Acc: 0.8820\n",
      "Epoch 28, Loss: 0.2860, Acc: 0.8862\n",
      "Epoch 29, Loss: 0.2907, Acc: 0.8786\n",
      "Epoch 30, Loss: 0.2801, Acc: 0.8863\n",
      "Epoch 31, Loss: 0.2835, Acc: 0.8849\n",
      "Epoch 32, Loss: 0.2762, Acc: 0.8853\n",
      "Epoch 33, Loss: 0.2771, Acc: 0.8878\n",
      "Epoch 34, Loss: 0.2683, Acc: 0.8925\n",
      "Epoch 35, Loss: 0.2751, Acc: 0.8892\n",
      "Epoch 36, Loss: 0.2625, Acc: 0.8934\n",
      "Epoch 37, Loss: 0.2663, Acc: 0.8902\n",
      "Epoch 38, Loss: 0.2657, Acc: 0.8928\n",
      "Epoch 39, Loss: 0.2615, Acc: 0.8907\n",
      "Epoch 40, Loss: 0.2566, Acc: 0.8971\n",
      "Epoch 41, Loss: 0.2531, Acc: 0.8957\n",
      "Epoch 42, Loss: 0.2575, Acc: 0.8969\n",
      "Epoch 43, Loss: 0.2560, Acc: 0.8944\n",
      "Epoch 44, Loss: 0.2498, Acc: 0.8993\n",
      "Epoch 45, Loss: 0.2453, Acc: 0.9033\n",
      "Epoch 46, Loss: 0.2473, Acc: 0.9018\n",
      "Epoch 47, Loss: 0.2468, Acc: 0.8997\n",
      "Epoch 48, Loss: 0.2525, Acc: 0.8990\n",
      "Epoch 49, Loss: 0.2387, Acc: 0.9050\n",
      "Epoch 50, Loss: 0.2433, Acc: 0.9009\n"
     ]
    }
   ],
   "source": [
    "model = train()"
   ]
  },
  {
   "cell_type": "code",
   "execution_count": 35,
   "id": "7da5bcae",
   "metadata": {},
   "outputs": [],
   "source": [
    "import torch\n",
    "model_test = torch.load('./models/Acc_0.905.pth', weights_only=False)"
   ]
  },
  {
   "cell_type": "code",
   "execution_count": 46,
   "id": "8c81e39d",
   "metadata": {},
   "outputs": [],
   "source": [
    "from torch.utils.data import DataLoader\n",
    "dfs_test = dfs_scaled.copy()\n",
    "dfs_test[base_tf] = dfs_test[base_tf][-4000:]\n",
    "test_dataset = MultiTFDataset(dfs_scaled=dfs_test, targets=df_target, seq_len=48, augment=False)\n",
    "test_loader = DataLoader(test_dataset, batch_size=64, shuffle=False)"
   ]
  },
  {
   "cell_type": "code",
   "execution_count": 47,
   "id": "434a00a2",
   "metadata": {},
   "outputs": [],
   "source": [
    "def test(model):\n",
    "    model.eval()\n",
    "    all_test_predictions = []\n",
    "    all_test_labels = []\n",
    "    all_indices = []\n",
    "\n",
    "    correct = 0\n",
    "    total = 0\n",
    "\n",
    "    with torch.no_grad():\n",
    "        for batch_x, batch_y, batch_idx in test_loader:\n",
    "            batch_x = batch_x.to(device)\n",
    "            batch_y = batch_y.to(device)\n",
    "\n",
    "            outputs = model(batch_x)\n",
    "            predicted = (torch.sigmoid(outputs) > 0.5).long()\n",
    "\n",
    "            all_test_predictions.extend(predicted.cpu().tolist())\n",
    "            all_test_labels.extend(batch_y.cpu().tolist())\n",
    "            all_indices.extend(batch_idx)  # Save indices\n",
    "\n",
    "            correct += (predicted == batch_y).sum().item()\n",
    "            total += batch_y.size(0)\n",
    "\n",
    "    accuracy = correct / total\n",
    "    print(f\"Test Accuracy: {accuracy:.4f}\")\n",
    "\n",
    "    return all_test_predictions, all_test_labels, all_indices"
   ]
  },
  {
   "cell_type": "code",
   "execution_count": 48,
   "id": "22353ebb",
   "metadata": {},
   "outputs": [
    {
     "name": "stdout",
     "output_type": "stream",
     "text": [
      "Test Accuracy: 0.7614\n"
     ]
    }
   ],
   "source": [
    "test_preds, test_labels , test_idx = test(model_test)"
   ]
  },
  {
   "cell_type": "code",
   "execution_count": 49,
   "id": "048e656e",
   "metadata": {},
   "outputs": [],
   "source": [
    "import pandas as pd\n",
    "\n",
    "results = pd.DataFrame({\n",
    "    'Date': test_idx,\n",
    "    'True_label': test_labels,\n",
    "    'Prediction': test_preds\n",
    "})\n",
    "results['Date'] = pd.to_datetime(results['Date'])\n",
    "results.to_csv(\"./intermediate/test_results.csv\", index=False)"
   ]
  },
  {
   "cell_type": "code",
   "execution_count": 50,
   "id": "09145c23",
   "metadata": {},
   "outputs": [],
   "source": [
    "pred_cnt = results['Prediction'].value_counts()\n",
    "true_labels = results['True_label'].value_counts()"
   ]
  },
  {
   "cell_type": "code",
   "execution_count": 51,
   "id": "e1bd69d4",
   "metadata": {},
   "outputs": [
    {
     "data": {
      "text/plain": [
       "(Prediction\n",
       " 0    3630\n",
       " 1     322\n",
       " Name: count, dtype: int64,\n",
       " True_label\n",
       " 0    2829\n",
       " 1    1123\n",
       " Name: count, dtype: int64)"
      ]
     },
     "execution_count": 51,
     "metadata": {},
     "output_type": "execute_result"
    }
   ],
   "source": [
    "pred_cnt,true_labels"
   ]
  },
  {
   "cell_type": "code",
   "execution_count": 56,
   "id": "aa6f95b0",
   "metadata": {},
   "outputs": [],
   "source": [
    "tp_class_0 = ((results['True_label'] == 0) & (results['Prediction'] == 0)).sum()\n",
    "tp_class_1 = ((results['True_label'] == 1) & (results['Prediction'] == 1)).sum()\n",
    "# tp_class_2 = ((results['True_label'] == 2) & (results['Prediction'] == 2)).sum()/ true_labels[2]\n",
    "fp_class_1 = ((results['True_label'] == 1) & (results['Prediction'] == 0)).sum()\n",
    "fp_class_0 = ((results['True_label'] == 0) & (results['Prediction'] == 1)).sum()\n",
    "\n",
    "# num_of_opps_class = int(((results['True_label'] == 1) & (results['Prediction'] == 2)).sum()) + int(((results['True_label'] == 2) & (results['Prediction'] == 1)).sum())"
   ]
  },
  {
   "cell_type": "code",
   "execution_count": 57,
   "id": "17cf7280",
   "metadata": {},
   "outputs": [
    {
     "data": {
      "text/plain": [
       "(np.int64(2758), np.int64(251))"
      ]
     },
     "execution_count": 57,
     "metadata": {},
     "output_type": "execute_result"
    }
   ],
   "source": [
    "tp_class_0, tp_class_1"
   ]
  },
  {
   "cell_type": "code",
   "execution_count": 58,
   "id": "6936e47d",
   "metadata": {},
   "outputs": [
    {
     "data": {
      "text/plain": [
       "(np.int64(872), np.int64(71))"
      ]
     },
     "execution_count": 58,
     "metadata": {},
     "output_type": "execute_result"
    }
   ],
   "source": [
    "fp_class_1, fp_class_0"
   ]
  },
  {
   "cell_type": "code",
   "execution_count": null,
   "id": "8ff68100",
   "metadata": {},
   "outputs": [],
   "source": []
  }
 ],
 "metadata": {
  "kernelspec": {
   "display_name": "Python 3",
   "language": "python",
   "name": "python3"
  },
  "language_info": {
   "codemirror_mode": {
    "name": "ipython",
    "version": 3
   },
   "file_extension": ".py",
   "mimetype": "text/x-python",
   "name": "python",
   "nbconvert_exporter": "python",
   "pygments_lexer": "ipython3",
   "version": "3.13.3"
  }
 },
 "nbformat": 4,
 "nbformat_minor": 5
}
